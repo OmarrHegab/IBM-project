{
 "cells": [
  {
   "cell_type": "markdown",
   "id": "4341bada-18de-46e5-aa33-0581613fc0dc",
   "metadata": {},
   "source": [
    "# Data Science Tools and Ecosystem"
   ]
  },
  {
   "cell_type": "markdown",
   "id": "e8b4f322-8f47-4b92-96a4-27b368a07bdf",
   "metadata": {},
   "source": [
    "## In this notebook, Data Science Tools and Ecosystem are summarized.\n",
    "-----"
   ]
  },
  {
   "cell_type": "markdown",
   "id": "3a73556d-e53e-448f-8d52-723c21cc96f6",
   "metadata": {},
   "source": [
    "## Objectives\n",
    "\n",
    "- summarizing languages,tools and packages used for Data Science  \n",
    "- trying sum arthemtic operations\n",
    "- practicing the use of markdowns"
   ]
  },
  {
   "cell_type": "markdown",
   "id": "3783bc20-f255-427f-828f-0b586a5d1a40",
   "metadata": {},
   "source": [
    "# In this notebook, Data Science Tools and Ecosystem are summarized.\n",
    "\n",
    "1. **Python**\n",
    "2. **R**\n",
    "3. **SQL**\n",
    "4. **Java**\n",
    "5. **Scala**\n",
    "6. **Julia**\n",
    "7. **SAS**\n",
    "8. **C / C++**"
   ]
  },
  {
   "cell_type": "markdown",
   "id": "22c42b02-7a77-459e-b3e4-2330740f6f4b",
   "metadata": {},
   "source": [
    "--------------------------------------------"
   ]
  },
  {
   "cell_type": "markdown",
   "id": "dc415a10-b6ec-4b19-927c-51c14ffe023e",
   "metadata": {},
   "source": [
    "# Some of the commonly used libraries used by Data Scientists include:\n",
    "\n",
    "1. **Pandas**\n",
    "2. **NumPy**\n",
    "3. **Matplotlib**\n",
    "4. **Seaborn**\n",
    "5. **Tensorflow**\n",
    "6. **PyTorch**\n",
    "7. **SciPy**"
   ]
  },
  {
   "cell_type": "markdown",
   "id": "f7678338-1bbf-4749-bd68-a86ceb84f8e1",
   "metadata": {},
   "source": [
    "---------------"
   ]
  },
  {
   "cell_type": "markdown",
   "id": "95977852-527b-4ff9-8859-23d15f0709a4",
   "metadata": {},
   "source": [
    "# Data Science Tools\n",
    "\n",
    "| **Tool** | **Purpose** |\r\n",
    "|--------------|----------------|\r\n",
    "| **Jupyter Notebook** | Interactive environment for coding, visualization, and documentation |\r\n",
    "| **Anaconda** | Package and environment manager for data science |\r\n",
    "| **Google Colab** | Cloud-based Jupyter environment with free GPU access |\r\n",
    "| **RStudio** | IDE for R programming and data visualization |\r\n",
    "| **TensorFlow** | Deep learning and neural network library |\r\n",
    "| **Scikit-learn** | Machine learning library for Pd tool |\r\n",
    "| **Apache Spark** | Big data processing and analytics engine |\r\n",
    "| **GitHub** | Version control and project collaboration platform |"
   ]
  },
  {
   "cell_type": "markdown",
   "id": "9729558a-0441-4c71-9a69-03da8ee438e2",
   "metadata": {},
   "source": [
    "---------------------------------------"
   ]
  },
  {
   "cell_type": "markdown",
   "id": "827825c5-82ca-4597-84e6-2d0a6bf705c8",
   "metadata": {},
   "source": [
    "# Below are a few examples of evaluating arithmetic expressions in Python\n",
    "1. **+**\n",
    "2. **-**\n",
    "3. __*__\n",
    "4. **/**"
   ]
  },
  {
   "cell_type": "markdown",
   "id": "e17d3324-7f12-4796-be6d-e7c1030252d0",
   "metadata": {},
   "source": [
    "-------------------"
   ]
  },
  {
   "cell_type": "markdown",
   "id": "db03a135-9e9f-4aa6-8a81-ce5c48bd5312",
   "metadata": {},
   "source": [
    "# Adding and multiplying number"
   ]
  },
  {
   "cell_type": "code",
   "execution_count": 1,
   "id": "59cfe4ef-66d1-46d5-87f0-7cbd2f243d6e",
   "metadata": {},
   "outputs": [
    {
     "data": {
      "text/plain": [
       "17"
      ]
     },
     "execution_count": 1,
     "metadata": {},
     "output_type": "execute_result"
    }
   ],
   "source": [
    "# This a simple arithmetic expression to mutiply then add integers\n",
    "(3*4)+5"
   ]
  },
  {
   "cell_type": "markdown",
   "id": "36e8a5a6-f25d-4104-9ff7-259d5f5a4356",
   "metadata": {},
   "source": [
    "--------------"
   ]
  },
  {
   "cell_type": "markdown",
   "id": "f6408617-b247-4385-84c0-cef0b470c8a0",
   "metadata": {},
   "source": [
    "# Converting minutes to Hours"
   ]
  },
  {
   "cell_type": "code",
   "execution_count": 2,
   "id": "b6090b61-7ad9-4538-b8d0-d185c23d7fd0",
   "metadata": {},
   "outputs": [
    {
     "name": "stdout",
     "output_type": "stream",
     "text": [
      "3.3333333333333335 hrs\n"
     ]
    }
   ],
   "source": [
    "# This will convert 200 minutes to hours by diving by 60\n",
    "\n",
    "def convert(x):\n",
    "    result = x / 60\n",
    "    return result\n",
    "\n",
    "print(convert(200),\"hrs\")"
   ]
  },
  {
   "cell_type": "markdown",
   "id": "5e0419d7-e87f-45d0-a859-f4a6713db531",
   "metadata": {},
   "source": [
    "-------------"
   ]
  },
  {
   "cell_type": "markdown",
   "id": "ce7e2162-d66f-4d12-a805-f3acaea0eebf",
   "metadata": {},
   "source": [
    "## Author\n",
    "Omar Hegab"
   ]
  }
 ],
 "metadata": {
  "kernelspec": {
   "display_name": "Python 3 (ipykernel)",
   "language": "python",
   "name": "python3"
  },
  "language_info": {
   "codemirror_mode": {
    "name": "ipython",
    "version": 3
   },
   "file_extension": ".py",
   "mimetype": "text/x-python",
   "name": "python",
   "nbconvert_exporter": "python",
   "pygments_lexer": "ipython3",
   "version": "3.11.7"
  }
 },
 "nbformat": 4,
 "nbformat_minor": 5
}
